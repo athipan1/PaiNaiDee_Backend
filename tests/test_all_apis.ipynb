{
 "cells": [
  {
   "cell_type": "markdown",
   "metadata": {},
   "source": [
    "# 🧪 ทดสอบ API ทั้งหมด PaiNaiDee Backend\n",
    "# Test All APIs - PaiNaiDee Backend\n",
    "\n",
    "**ภาษาไทย:** โน้ตบุ๊กนี้ใช้สำหรับทดสอบ API endpoints ทั้งหมดของ PaiNaiDee Backend  \n",
    "**English:** This notebook is used to test all API endpoints of PaiNaiDee Backend\n",
    "\n",
    "## 📋 API Endpoints ที่ทดสอบ / Tested Endpoints:\n",
    "- ✅ `/api/talk` - Conversational AI endpoint\n",
    "- ✅ `/api/attractions` - Get all attractions  \n",
    "- ✅ `/api/attractions/<id>` - Get specific attraction\n",
    "- ✅ `/api/videos` - Get videos\n",
    "- ✅ `/api/videos/upload` - Upload video (requires auth)\n",
    "- ✅ `/api/search` - Search attractions\n",
    "- ✅ `/api/auth/register` - User registration\n",
    "- ✅ `/api/auth/login` - User login\n",
    "- ✅ Health check endpoint\n",
    "\n",
    "## 🚀 Setup Instructions / คำแนะนำการติดตั้ง"
   ]
  },
  {
   "cell_type": "markdown",
   "metadata": {},
   "source": [
    "### 1. Install Dependencies / ติดตั้ง Dependencies"
   ]
  },
  {
   "cell_type": "code",
   "execution_count": null,
   "metadata": {},
   "outputs": [],
   "source": [
    "# Install required packages / ติดตั้งแพ็คเกจที่จำเป็น\n",
    "!pip install requests python-dotenv\n",
    "\n",
    "# If running locally, install from requirements.txt\n",
    "# หากรันบนเครื่องตัวเอง ให้ติดตั้งจาก requirements.txt\n",
    "# !pip install -r requirements.txt"
   ]
  },
  {
   "cell_type": "markdown",
   "metadata": {},
   "source": [
    "### 2. Set API Endpoint URL / ตั้งค่า URL ของ API Endpoint"
   ]
  },
  {
   "cell_type": "code",
   "execution_count": null,
   "metadata": {},
   "outputs": [],
   "source": [
    "import requests\n",
    "import json\n",
    "from datetime import datetime\n",
    "\n",
    "# Set your API endpoint URL here / ตั้งค่า URL ของ API endpoint ที่นี่\n",
    "# Examples / ตัวอย่าง:\n",
    "# - Local development: \"http://localhost:5000\"\n",
    "# - Vercel deployment: \"https://your-app.vercel.app\" \n",
    "# - Hugging Face Spaces: \"https://your-space-name.hf.space\"\n",
    "# - ngrok tunnel: \"https://abc123.ngrok.io\"\n",
    "\n",
    "API_BASE_URL = \"http://localhost:5000\"  # Change this to your deployment URL / เปลี่ยนเป็น URL ของการติดตั้งของคุณ\n",
    "\n",
    "print(f\"🌐 Testing API at: {API_BASE_URL}\")\n",
    "print(f\"🌐 ทดสอบ API ที่: {API_BASE_URL}\")"
   ]
  },
  {
   "cell_type": "markdown",
   "metadata": {},
   "source": [
    "### 3. Helper Function / ฟังก์ชันช่วย"
   ]
  },
  {
   "cell_type": "code",
   "execution_count": null,
   "metadata": {},
   "outputs": [],
   "source": [
    "def call_api(method, endpoint, payload=None, headers=None, files=None):\n",
    "    \"\"\"\n",
    "    Helper function to call API endpoints\n",
    "    ฟังก์ชันช่วยสำหรับเรียก API endpoints\n",
    "    \n",
    "    Args:\n",
    "        method (str): HTTP method (GET, POST, PUT, DELETE)\n",
    "        endpoint (str): API endpoint path (e.g., \"/api/attractions\")\n",
    "        payload (dict): Request body data\n",
    "        headers (dict): Request headers\n",
    "        files (dict): Files to upload\n",
    "    \n",
    "    Returns:\n",
    "        dict: Response data and metadata\n",
    "    \"\"\"\n",
    "    url = f\"{API_BASE_URL}{endpoint}\"\n",
    "    \n",
    "    # Default headers\n",
    "    default_headers = {\n",
    "        'Content-Type': 'application/json'\n",
    "    }\n",
    "    \n",
    "    if headers:\n",
    "        default_headers.update(headers)\n",
    "    \n",
    "    # Remove Content-Type if files are being uploaded\n",
    "    if files:\n",
    "        default_headers.pop('Content-Type', None)\n",
    "    \n",
    "    try:\n",
    "        # Make the request\n",
    "        if method.upper() == 'GET':\n",
    "            response = requests.get(url, headers=default_headers, params=payload)\n",
    "        elif method.upper() == 'POST':\n",
    "            if files:\n",
    "                response = requests.post(url, data=payload, files=files, headers=default_headers)\n",
    "            else:\n",
    "                response = requests.post(url, json=payload, headers=default_headers)\n",
    "        elif method.upper() == 'PUT':\n",
    "            response = requests.put(url, json=payload, headers=default_headers)\n",
    "        elif method.upper() == 'DELETE':\n",
    "            response = requests.delete(url, headers=default_headers)\n",
    "        else:\n",
    "            return {\"error\": f\"Unsupported method: {method}\"}\n",
    "        \n",
    "        # Parse response\n",
    "        try:\n",
    "            response_data = response.json()\n",
    "        except:\n",
    "            response_data = response.text\n",
    "        \n",
    "        return {\n",
    "            \"status_code\": response.status_code,\n",
    "            \"success\": response.status_code < 400,\n",
    "            \"data\": response_data,\n",
    "            \"url\": url,\n",
    "            \"method\": method.upper()\n",
    "        }\n",
    "        \n",
    "    except requests.exceptions.RequestException as e:\n",
    "        return {\n",
    "            \"error\": str(e),\n",
    "            \"url\": url,\n",
    "            \"method\": method.upper()\n",
    "        }\n",
    "\n",
    "def print_result(result, test_name):\n",
    "    \"\"\"\n",
    "    Pretty print API test results\n",
    "    แสดงผลลัพธ์การทดสอบ API อย่างสวยงาม\n",
    "    \"\"\"\n",
    "    print(f\"\\n{'='*60}\")\n",
    "    print(f\"🧪 Test: {test_name}\")\n",
    "    print(f\"🧪 การทดสอบ: {test_name}\")\n",
    "    print(f\"{'='*60}\")\n",
    "    \n",
    "    if 'error' in result:\n",
    "        print(f\"❌ Error / ข้อผิดพลาด: {result['error']}\")\n",
    "        return\n",
    "    \n",
    "    print(f\"🔗 URL: {result['url']}\")\n",
    "    print(f\"📤 Method / วิธี: {result['method']}\")\n",
    "    print(f\"📊 Status Code / รหัสสถานะ: {result['status_code']}\")\n",
    "    \n",
    "    if result['success']:\n",
    "        print(f\"✅ Success / สำเร็จ: True\")\n",
    "    else:\n",
    "        print(f\"❌ Success / สำเร็จ: False\")\n",
    "    \n",
    "    print(f\"📋 Response / การตอบกลับ:\")\n",
    "    if isinstance(result['data'], dict) or isinstance(result['data'], list):\n",
    "        print(json.dumps(result['data'], indent=2, ensure_ascii=False))\n",
    "    else:\n",
    "        print(result['data'])\n",
    "\n",
    "print(\"✅ Helper functions loaded / โหลดฟังก์ชันช่วยเสร็จสิ้น\")"
   ]
  },
  {
   "cell_type": "markdown",
   "metadata": {},
   "source": [
    "## 🔍 API Tests / การทดสอบ API\n",
    "\n",
    "### Test 1: Health Check / ตรวจสอบสถานะระบบ"
   ]
  },
  {
   "cell_type": "code",
   "execution_count": null,
   "metadata": {},
   "outputs": [],
   "source": [
    "# Test health check endpoint\n",
    "result = call_api(\"GET\", \"/health\")\n",
    "print_result(result, \"Health Check / ตรวจสอบสถานะระบบ\")"
   ]
  },
  {
   "cell_type": "markdown",
   "metadata": {},
   "source": [
    "### Test 2: Home Page / หน้าแรก"
   ]
  },
  {
   "cell_type": "code",
   "execution_count": null,
   "metadata": {},
   "outputs": [],
   "source": [
    "# Test home page\n",
    "result = call_api(\"GET\", \"/\")\n",
    "print_result(result, \"Home Page / หน้าแรก\")"
   ]
  },
  {
   "cell_type": "markdown",
   "metadata": {},
   "source": [
    "### Test 3: Get All Attractions / ดึงข้อมูลสถานที่ท่องเที่ยวทั้งหมด"
   ]
  },
  {
   "cell_type": "code",
   "execution_count": null,
   "metadata": {},
   "outputs": [],
   "source": [
    "# Test get all attractions\n",
    "result = call_api(\"GET\", \"/api/attractions\")\n",
    "print_result(result, \"Get All Attractions / ดึงข้อมูลสถานที่ท่องเที่ยวทั้งหมด\")\n",
    "\n",
    "# Store attraction ID for next test\n",
    "attraction_id = None\n",
    "if result.get('success') and result.get('data', {}).get('data'):\n",
    "    attractions = result['data']['data']\n",
    "    if attractions:\n",
    "        attraction_id = attractions[0].get('id')\n",
    "        print(f\"\\n📌 Found attraction ID for next test: {attraction_id}\")\n",
    "        print(f\"📌 พบ attraction ID สำหรับการทดสอบถัดไป: {attraction_id}\")"
   ]
  },
  {
   "cell_type": "markdown",
   "metadata": {},
   "source": [
    "### Test 4: Get Specific Attraction / ดึงข้อมูลสถานที่ท่องเที่ยวเฉพาะ"
   ]
  },
  {
   "cell_type": "code",
   "execution_count": null,
   "metadata": {},
   "outputs": [],
   "source": [
    "# Test get specific attraction\n",
    "if attraction_id:\n",
    "    result = call_api(\"GET\", f\"/api/attractions/{attraction_id}\")\n",
    "    print_result(result, f\"Get Attraction {attraction_id} / ดึงข้อมูลสถานที่ท่องเที่ยว {attraction_id}\")\n",
    "else:\n",
    "    print(\"❌ No attraction ID available for testing\")\n",
    "    print(\"❌ ไม่มี attraction ID สำหรับการทดสอบ\")"
   ]
  },
  {
   "cell_type": "markdown",
   "metadata": {},
   "source": [
    "### Test 5: Search Attractions / ค้นหาสถานที่ท่องเที่ยว"
   ]
  },
  {
   "cell_type": "code",
   "execution_count": null,
   "metadata": {},
   "outputs": [],
   "source": [
    "# Test search attractions\n",
    "search_params = {\"q\": \"วัด\"}  # Search for temples\n",
    "result = call_api(\"GET\", \"/api/search\", payload=search_params)\n",
    "print_result(result, \"Search Attractions (วัด) / ค้นหาสถานที่ท่องเที่ยว (วัด)\")"
   ]
  },
  {
   "cell_type": "markdown",
   "metadata": {},
   "source": [
    "### Test 6: Get Videos / ดึงข้อมูลวิดีโอ"
   ]
  },
  {
   "cell_type": "code",
   "execution_count": null,
   "metadata": {},
   "outputs": [],
   "source": [
    "# Test get videos\n",
    "result = call_api(\"GET\", \"/api/videos\")\n",
    "print_result(result, \"Get Videos / ดึงข้อมูลวิดีโอ\")"
   ]
  },
  {
   "cell_type": "markdown",
   "metadata": {},
   "source": [
    "### Test 7: User Registration / ลงทะเบียนผู้ใช้"
   ]
  },
  {
   "cell_type": "code",
   "execution_count": null,
   "metadata": {},
   "outputs": [],
   "source": [
    "# Test user registration\n",
    "test_user = {\n",
    "    \"username\": f\"testuser_{datetime.now().strftime('%Y%m%d_%H%M%S')}\",\n",
    "    \"email\": f\"test_{datetime.now().strftime('%Y%m%d_%H%M%S')}@example.com\",\n",
    "    \"password\": \"testpassword123\"\n",
    "}\n",
    "\n",
    "result = call_api(\"POST\", \"/api/auth/register\", payload=test_user)\n",
    "print_result(result, \"User Registration / ลงทะเบียนผู้ใช้\")\n",
    "\n",
    "# Store user info for login test\n",
    "if result.get('success'):\n",
    "    print(f\"\\n📌 User registered successfully / ลงทะเบียนผู้ใช้สำเร็จ\")\n",
    "    registered_user = test_user\n",
    "else:\n",
    "    # Use default test user for login\n",
    "    registered_user = test_user"
   ]
  },
  {
   "cell_type": "markdown",
   "metadata": {},
   "source": [
    "### Test 8: User Login / เข้าสู่ระบบ"
   ]
  },
  {
   "cell_type": "code",
   "execution_count": null,
   "metadata": {},
   "outputs": [],
   "source": [
    "# Test user login\n",
    "login_data = {\n",
    "    \"username\": registered_user[\"username\"],\n",
    "    \"password\": registered_user[\"password\"]\n",
    "}\n",
    "\n",
    "result = call_api(\"POST\", \"/api/auth/login\", payload=login_data)\n",
    "print_result(result, \"User Login / เข้าสู่ระบบ\")\n",
    "\n",
    "# Store JWT token for authenticated requests\n",
    "jwt_token = None\n",
    "if result.get('success') and result.get('data', {}).get('data', {}).get('access_token'):\n",
    "    jwt_token = result['data']['data']['access_token']\n",
    "    print(f\"\\n📌 JWT Token obtained for authenticated requests\")\n",
    "    print(f\"📌 ได้รับ JWT Token สำหรับคำขอที่ต้องการการยืนยันตัวตน\")\n",
    "else:\n",
    "    print(f\"\\n❌ Failed to get JWT token\")\n",
    "    print(f\"❌ ไม่สามารถรับ JWT token ได้\")"
   ]
  },
  {
   "cell_type": "markdown",
   "metadata": {},
   "source": [
    "### Test 9: Talk API (Conversational AI) / API การสนทนา (AI สนทนา)"
   ]
  },
  {
   "cell_type": "code",
   "execution_count": null,
   "metadata": {},
   "outputs": [],
   "source": [
    "# Test talk API\n",
    "talk_data = {\n",
    "    \"sender\": \"TestClient\",\n",
    "    \"receiver\": \"PaiNaiDeeAI\",\n",
    "    \"message\": \"Hello, can you recommend some attractions in Bangkok?\",\n",
    "    \"session_id\": f\"test_session_{datetime.now().strftime('%Y%m%d_%H%M%S')}\"\n",
    "}\n",
    "\n",
    "result = call_api(\"POST\", \"/api/talk\", payload=talk_data)\n",
    "print_result(result, \"Talk API (Conversational AI) / API การสนทนา (AI สนทนา)\")"
   ]
  },
  {
   "cell_type": "markdown",
   "metadata": {},
   "source": [
    "### Test 10: Upload Video (Authenticated) / อัปโหลดวิดีโอ (ต้องมีการยืนยันตัวตน)\n",
    "\n",
    "**Note:** This test requires authentication and a video file. We'll test with a simple payload to check the authentication requirement."
   ]
  },
  {
   "cell_type": "code",
   "execution_count": null,
   "metadata": {},
   "outputs": [],
   "source": [
    "# Test video upload endpoint (without actual file, just to test auth requirement)\n",
    "if jwt_token:\n",
    "    headers = {\"Authorization\": f\"Bearer {jwt_token}\"}\n",
    "    # Test with form data (simulating file upload)\n",
    "    result = call_api(\"POST\", \"/api/videos/upload\", \n",
    "                     payload={\"caption\": \"Test video upload\"}, \n",
    "                     headers=headers)\n",
    "    print_result(result, \"Upload Video (with auth) / อัปโหลดวิดีโอ (มี auth)\")\n",
    "else:\n",
    "    # Test without authentication\n",
    "    result = call_api(\"POST\", \"/api/videos/upload\", payload={\"caption\": \"Test video upload\"})\n",
    "    print_result(result, \"Upload Video (no auth) / อัปโหลดวิดีโอ (ไม่มี auth)\")\n",
    "    \n",
    "    # This should return 401 Unauthorized\n",
    "    if result.get('status_code') == 401:\n",
    "        print(\"\\n✅ Expected 401 response - authentication working correctly\")\n",
    "        print(\"✅ ได้รับการตอบกลับ 401 ตามที่คาดหวัง - การยืนยันตัวตนทำงานถูกต้อง\")"
   ]
  },
  {
   "cell_type": "markdown",
   "metadata": {},
   "source": [
    "## 📊 Test Summary / สรุปผลการทดสอบ\n",
    "\n",
    "### Results / ผลลัพธ์:\n",
    "\n",
    "The tests above cover the main API endpoints of PaiNaiDee Backend:  \n",
    "การทดสอบข้างต้นครอบคลุม API endpoints หลักของ PaiNaiDee Backend:\n",
    "\n",
    "1. **Health Check** - Basic system health verification\n",
    "2. **Home Page** - API welcome message\n",
    "3. **Attractions API** - Main tourism data endpoints\n",
    "4. **Search API** - Attraction search functionality\n",
    "5. **Videos API** - Video content management\n",
    "6. **Authentication** - User registration and login\n",
    "7. **Talk API** - Conversational AI features\n",
    "8. **Upload API** - File upload with authentication\n",
    "\n",
    "### Notes / หมายเหตุ:\n",
    "\n",
    "- **Authentication Required**: Some endpoints require JWT token  \n",
    "  **ต้องมีการยืนยันตัวตน**: บาง endpoints ต้องใช้ JWT token\n",
    "\n",
    "- **File Uploads**: Video upload tests require actual file data  \n",
    "  **การอัปโหลดไฟล์**: การทดสอบอัปโหลดวิดีโอต้องมีข้อมูลไฟล์จริง\n",
    "\n",
    "- **Thai Language Support**: API supports Thai text in responses  \n",
    "  **รองรับภาษาไทย**: API รองรับข้อความภาษาไทยในการตอบกลับ\n",
    "\n",
    "### Next Steps / ขั้นตอนถัดไป:\n",
    "\n",
    "1. Update API_BASE_URL to your deployment URL / อัปเดต API_BASE_URL เป็น URL ของการติดตั้งของคุณ\n",
    "2. Run all cells to test your API deployment / รันทุกเซลล์เพื่อทดสอบการติดตั้ง API ของคุณ\n",
    "3. Review test results and debug any issues / ตรวจสอบผลการทดสอบและแก้ไขปัญหาที่พบ\n",
    "4. Use successful endpoints in your frontend application / ใช้ endpoints ที่สำเร็จในแอปพลิเคชัน frontend ของคุณ"
   ]
  }
 ],
 "metadata": {
  "kernelspec": {
   "display_name": "Python 3",
   "language": "python",
   "name": "python3"
  },
  "language_info": {
   "codemirror_mode": {
    "name": "ipython",
    "version": 3
   },
   "file_extension": ".py",
   "name": "python",
   "nbconvert_exporter": "python",
   "pygments_lexer": "ipython3",
   "version": "3.8.5"
  }
 },
 "nbformat": 4,
 "nbformat_minor": 4
}